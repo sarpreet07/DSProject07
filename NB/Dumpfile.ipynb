{
 "cells": [
  {
   "cell_type": "code",
   "execution_count": 1,
   "id": "a0a4ba28",
   "metadata": {},
   "outputs": [
    {
     "name": "stdout",
     "output_type": "stream",
     "text": [
      "[41.]\n"
     ]
    }
   ],
   "source": [
    "import numpy as np\n",
    "import pandas as pd\n",
    "import pickle\n",
    "import seaborn as sns\n",
    "df= pd.read_csv('city_day.csv')\n",
    "#Drop unwanted columns.\n",
    "newdata=df.drop(['City', 'Date','NOx', 'NH3','Benzene', 'Toluene', 'Xylene', 'AQI_Bucket'],axis=1)\n",
    "#Removing null values.\n",
    "for i in newdata.columns:\n",
    "    newdata[i].fillna(newdata[i].mean(),inplace=True)\n",
    "newdf=newdata.astype(int)\n",
    "\n",
    "#Data training\n",
    "# Import train_test_split from sklearn.model_selection\n",
    "from sklearn.model_selection import train_test_split\n",
    "# Here, X is the data which will have features and y will have our target i.e. Air Quality Index(AQI).\n",
    "x=newdf[['PM2.5', 'PM10', 'NO', 'NO2','CO', 'SO2','O3']]  \n",
    "y=newdf['AQI']\n",
    "# Split data into training data and testing data\n",
    "x_train, x_test, y_train, y_test = train_test_split(x, y, test_size=0.2) \n",
    "#Ratio used for splitting training and testing data is 8:2 respectively\n",
    "# Importing decision tree regressor \n",
    "from sklearn.tree import DecisionTreeRegressor \n",
    "reg4 = DecisionTreeRegressor()\n",
    "#Fitting data into the model.\n",
    "reg4.fit(x_train, y_train)\n",
    "\n",
    "\n",
    "pickle.dump(reg4, open('model.pkl','wb'))\n",
    "\n",
    "model = pickle.load(open('model.pkl','rb'))\n",
    "print(model.predict([[15,50,7,25,0,8,23]]))"
   ]
  }
 ],
 "metadata": {
  "kernelspec": {
   "display_name": "Python 3",
   "language": "python",
   "name": "python3"
  },
  "language_info": {
   "codemirror_mode": {
    "name": "ipython",
    "version": 3
   },
   "file_extension": ".py",
   "mimetype": "text/x-python",
   "name": "python",
   "nbconvert_exporter": "python",
   "pygments_lexer": "ipython3",
   "version": "3.9.5"
  }
 },
 "nbformat": 4,
 "nbformat_minor": 5
}
