{
 "cells": [
  {
   "cell_type": "code",
   "execution_count": 1,
   "id": "135271ac",
   "metadata": {},
   "outputs": [],
   "source": [
    "# Importing required libraries\n",
    "\n",
    "import pickle\n",
    "import numpy as np\n",
    "import pandas as pd\n",
    "import warnings\n",
    "warnings.filterwarnings('ignore')\n",
    "import ipywidgets as widgets\n",
    "from IPython.display import display, clear_output"
   ]
  },
  {
   "cell_type": "code",
   "execution_count": 2,
   "id": "652057d6",
   "metadata": {},
   "outputs": [],
   "source": [
    "#!jupyter nbextension enable --py widgetsnbextension --sys-prefix\n",
    "#!jupyter serverextension enable voila --sys-prefix"
   ]
  },
  {
   "cell_type": "code",
   "execution_count": 3,
   "id": "3f724471",
   "metadata": {},
   "outputs": [],
   "source": [
    "# Input widgets\n",
    "\n",
    "PM25 = widgets.FloatText(\n",
    "        description = 'PM 2.5',\n",
    "        disabled = False,\n",
    "        layout = widgets.Layout(width = '90%')\n",
    "    )\n",
    "\n",
    "PM10 = widgets.FloatText(\n",
    "        description = 'PM 10',\n",
    "        disabled = False,\n",
    "        layout = widgets.Layout(width = '90%')\n",
    "    )\n",
    "\n",
    "NO = widgets.FloatText(\n",
    "        description = 'NO',\n",
    "        disabled = False,\n",
    "        layout = widgets.Layout(width = '90%')\n",
    "    )\n",
    "\n",
    "NO2 = widgets.FloatText(\n",
    "        description = 'NO2',\n",
    "        disabled = False,\n",
    "        layout = widgets.Layout(width = '90%')\n",
    "    )\n",
    "\n",
    "CO = widgets.FloatText(\n",
    "        description = 'CO',\n",
    "        disabled = False,\n",
    "        layout = widgets.Layout(width = '90%')\n",
    "    )\n",
    "\n",
    "SO2 = widgets.FloatText(\n",
    "        description = 'SO2',\n",
    "        disabled = False,\n",
    "        layout = widgets.Layout(width = '90%')\n",
    "    )\n",
    "\n",
    "O3 = widgets.FloatText(\n",
    "        description = 'O3',\n",
    "        disabled = False,\n",
    "        layout = widgets.Layout(width = '90%')\n",
    "    )\n",
    "\n",
    "inputs = widgets.VBox([PM25, PM10, NO, NO2, CO, SO2, O3], \n",
    "                       layout = widgets.Layout(\n",
    "                        justify_content = 'center',\n",
    "                        width = '100%'\n",
    "                        ))"
   ]
  },
  {
   "cell_type": "code",
   "execution_count": 4,
   "id": "81f43d1b",
   "metadata": {},
   "outputs": [],
   "source": [
    "# Return charges predicted using appropriate cluster's linear model\n",
    "\n",
    "def return_air_pol_pred(pm25, pm10, no, no2, co, so2, o3):\n",
    "    model = pickle.load(open('model.pkl', 'rb'))\n",
    "    ans = model.predict(np.array([pm25, pm10, no, no2, co, so2, o3]).reshape(1, -1))\n",
    "    \n",
    "    return ans"
   ]
  },
  {
   "cell_type": "code",
   "execution_count": 5,
   "id": "51750305",
   "metadata": {},
   "outputs": [],
   "source": [
    "# On button click function definition\n",
    "\n",
    "def on_button_clicked(event):\n",
    "    with output:\n",
    "        clear_output()\n",
    "        pm25 = float(PM25.value)\n",
    "        pm10 = float(PM10.value)\n",
    "        no = float(NO.value)\n",
    "        no2 = float(NO2.value)\n",
    "        co = float(CO.value)\n",
    "        so2 = float(SO2.value)\n",
    "        o3 = float(O3.value)\n",
    "        \n",
    "        if(pm25 == 0 and pm10 == 0 and no == 0 and no2 == 0 and co == 0 and so2 == 0 and o3 == 0):\n",
    "            display(\n",
    "            widgets.HTML(value = \"<h2><center>Best AQI</center></h2>\")\n",
    "            )\n",
    "            return\n",
    "        \n",
    "        if(pm25 == 100 or pm10 == 100 or no == 100 or no2 == 100 or co == 100 or so2 == 100 or o3 == 100):\n",
    "            display(\n",
    "            widgets.HTML(value = \"<h2><center>Worst AQI</center></h2>\")\n",
    "            )\n",
    "            return\n",
    "        \n",
    "        pol_predicted = return_air_pol_pred(pm25, pm10, no, no2, co, so2, o3)\n",
    "        \n",
    "        display(\n",
    "            widgets.HTML(value = \"<h2><center>AQI predicted: \" + str(round(pol_predicted[0], 2)) + \"</center></h2>\")\n",
    "        )"
   ]
  },
  {
   "cell_type": "code",
   "execution_count": 6,
   "id": "4ac502fa",
   "metadata": {},
   "outputs": [],
   "source": [
    "# Calculate button\n",
    "\n",
    "calculate = widgets.Button(\n",
    "            description = 'Calculate',\n",
    "            layout = widgets.Layout(width = '100%')\n",
    "        )\n",
    "\n",
    "calculate.on_click(on_button_clicked)"
   ]
  },
  {
   "cell_type": "code",
   "execution_count": 7,
   "id": "65993be2",
   "metadata": {},
   "outputs": [],
   "source": [
    "# Output widget\n",
    "\n",
    "output = widgets.Output()\n",
    "\n",
    "OutputHbox = widgets.HBox([output],\n",
    "                        layout = widgets.Layout(\n",
    "                        justify_content = 'center',\n",
    "                        )\n",
    "                    )"
   ]
  },
  {
   "cell_type": "code",
   "execution_count": 8,
   "id": "428bd14e",
   "metadata": {},
   "outputs": [],
   "source": [
    "# Line breaker\n",
    "\n",
    "text_0 = widgets.HTML(value = \"<h1></h1>\", \n",
    "                     layout = widgets.Layout(\n",
    "                     align_items = 'center',\n",
    "                     )\n",
    "                    )"
   ]
  },
  {
   "cell_type": "code",
   "execution_count": 9,
   "id": "09c72c42",
   "metadata": {},
   "outputs": [],
   "source": [
    "# Heading\n",
    "\n",
    "text_1 = widgets.HTML(value = \"<h1><b><center>Air Quality Index calculator</center></b></h1>\")\n",
    "\n",
    "headings = widgets.VBox([text_1, text_0])\n",
    "\n",
    "# About dataset\n",
    "\n",
    "text_4 = widgets.HTML(value = \"\"\"\n",
    "<table style=\"width: 100%; border-collapse: collapse;\" border=\"3\" cellpadding=\"20\">\n",
    "<tbody>\n",
    "<tr>\n",
    "<td style=\"width: 100%;\">\n",
    "<h1>About the dataset</h1>\n",
    "<h3>Attributes:</h3>\n",
    "<ul>\n",
    "<li>City: City</li>\n",
    "<li>Date: Date</li>\n",
    "<li>PM2.5: Particulate Matter 2.5-micrometer in ug / m3</li>\n",
    "<li>PM10: Particulate Matter 10-micrometer in ug / m3</li>\n",
    "<li>NO: Nitric Oxide in ug / m3</li>\n",
    "<li>NO2:Nitric Dioxide in ug / m3</li>\n",
    "<li>NOx:Any Nitric x-oxide in ppb</li>\n",
    "<li>CO:Carbon Monoxide in mg / m3</li>\n",
    "<li>SO2:Sulphur Dioxide in ug / m3</li>\n",
    "<li>O3:Ozone in ug / m3</li>\n",
    "</ul>\n",
    "</td>\n",
    "</tr>\n",
    "</tbody>\n",
    "</table>\n",
    "\"\"\")\n",
    "\n",
    "text_6 = widgets.HTML(value = \"<h1><center>Enter the following parameters:</center></h1>\")"
   ]
  },
  {
   "cell_type": "code",
   "execution_count": 10,
   "id": "8059307d",
   "metadata": {},
   "outputs": [
    {
     "data": {
      "application/vnd.jupyter.widget-view+json": {
       "model_id": "0a5f7a10ff914329b590b960113aabdc",
       "version_major": 2,
       "version_minor": 0
      },
      "text/plain": [
       "VBox(children=(HTML(value='<h1></h1>', layout=Layout(align_items='center')), HTML(value='<h1><b><center>Air Qu…"
      ]
     },
     "metadata": {},
     "output_type": "display_data"
    }
   ],
   "source": [
    "# Displaying rendered Web Page\n",
    "\n",
    "page = widgets.VBox([text_0, text_1, text_0, text_0, text_4, text_0, text_6, text_0, inputs, text_0, text_0, calculate, output])\n",
    "display(page)"
   ]
  }
 ],
 "metadata": {
  "kernelspec": {
   "display_name": "Python 3",
   "language": "python",
   "name": "python3"
  },
  "language_info": {
   "codemirror_mode": {
    "name": "ipython",
    "version": 3
   },
   "file_extension": ".py",
   "mimetype": "text/x-python",
   "name": "python",
   "nbconvert_exporter": "python",
   "pygments_lexer": "ipython3",
   "version": "3.9.5"
  }
 },
 "nbformat": 4,
 "nbformat_minor": 5
}
